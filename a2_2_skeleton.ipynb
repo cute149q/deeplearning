{
 "cells": [
  {
   "cell_type": "code",
   "execution_count": 1,
   "id": "7d0580a5",
   "metadata": {},
   "outputs": [],
   "source": [
    "import pickle\n",
    "import matplotlib.pyplot as plt\n",
    "import matplotlib\n",
    "import numpy as np"
   ]
  },
  {
   "cell_type": "code",
   "execution_count": 2,
   "id": "bb77a4be",
   "metadata": {},
   "outputs": [],
   "source": [
    "def load_pickle(fn):\n",
    "    with open(fn, 'rb') as f:\n",
    "        return pickle.load(f)\n",
    "\n",
    "    \n",
    "\"\"\"\n",
    "simulation_{train, valid, test} is stored as a list of simulations. \n",
    "Each simulation is a numpy array of size (t, 2): For t timesteps an x and y coordinate of our particle.\n",
    "\"\"\"\n",
    "simulation_train = load_pickle('data/train/simulation.pickle')  # 2.1 + 2.2\n",
    "simulation_valid = load_pickle('data/valid/simulation.pickle')  # 2.1 + 2.2\n",
    "simulation_test = load_pickle('data/test/simulation.pickle')  # 2.1 + 2.2\n",
    "\n",
    "\"\"\"\n",
    "charges_{train, valid, test} is stored as a list of simulation-charges. \n",
    "These charges are stored as numpy arrays of size (3,): One value for each charge.\n",
    "\"\"\"\n",
    "charges_train = load_pickle('data/train/charges.pickle')  # 2.1\n",
    "charges_valid = load_pickle('data/valid/charges.pickle')  # 2.1\n",
    "charges_test = load_pickle('data/test/charges.pickle')  # 2.1\n",
    "\n",
    "\"\"\"\n",
    "simulation_continued_{train, valid, test} is stored as a list of simulations. \n",
    "Each simulation is a numpy array of size (t, 2): For t timesteps an x and y coordinate of our particle.\n",
    "\"\"\"\n",
    "simulation_continued_train = load_pickle('data/train/simulation_continued.pickle')  # 2.2\n",
    "simulation_continued_valid = load_pickle('data/valid/simulation_continued.pickle')  # 2.2\n",
    "simulation_continued_test = load_pickle('data/test/simulation_continued.pickle')  # 2.2\n",
    "\n",
    "\"\"\"\n",
    "Note that the indices are shared throughout the different lists, e.g., for the 4th training simulation:\n",
    "simulation_train[3] contains its initial simulation\n",
    "charges_train[3] contains the charges associated with the simulation\n",
    "simulation_continued_train[3] contains the continuation of the simulation \n",
    "                --> simulation_continued_train[3][0] is the state after simulation_train[3][-1]\n",
    "\"\"\"\n",
    "pass"
   ]
  },
  {
   "cell_type": "code",
   "execution_count": 3,
   "id": "6ec7f502",
   "metadata": {},
   "outputs": [
    {
     "name": "stdout",
     "output_type": "stream",
     "text": [
      "Overview of no. datapoints:\n",
      "\n",
      "Task 2.1:\n",
      "800 train, 100 validation, 100 test simulations\n",
      "800 train, 100 validation, 100 test charge pairs\n",
      "\n",
      "Task 2.2:\n",
      "Since len(simulation_continued_train) < len(simulation_train), we can only use a subset of initial simulations\n",
      "We cut simulation_train down to the first 150 samples in simulation_train_task2\n",
      "150 train, 100 validation, 100 test simulations\n",
      "150 train, 100 validation, 100 test continuations\n",
      "\n",
      "For task 2.1, use:\n",
      "simulation_train + charges_train\n",
      "simulation_valid + charges_valid\n",
      "simulation_test + charges_test\n",
      "\n",
      "For task 2.2, use:\n",
      "simulation_train_task2 + simulation_continued_train\n",
      "simulation_valid + simulation_continued_valid\n",
      "simulation_test + simulation_continued_test\n",
      "\n"
     ]
    }
   ],
   "source": [
    "print('Overview of no. datapoints:\\n')\n",
    "\n",
    "print('Task 2.1:')\n",
    "print(f'{len(simulation_train)} train, {len(simulation_valid)} validation, {len(simulation_test)} test simulations')\n",
    "print(f'{len(charges_train)} train, {len(charges_valid)} validation, {len(charges_test)} test charge pairs')\n",
    "print()\n",
    "\n",
    "print('Task 2.2:')\n",
    "print('Since len(simulation_continued_train) < len(simulation_train), we can only use a subset of initial simulations')\n",
    "print('We cut simulation_train down to the first 150 samples in simulation_train_task2')\n",
    "simulation_train_task2 = simulation_train[:150]\n",
    "print(f'{len(simulation_train_task2)} train, {len(simulation_valid)} validation, {len(simulation_test)} test simulations')\n",
    "print(f'{len(simulation_continued_train)} train, {len(simulation_continued_valid)} validation, {len(simulation_continued_test)} test continuations')\n",
    "\n",
    "print(f\"\"\"\n",
    "For task 2.1, use:\n",
    "{chr(10).join([\"simulation_{} + charges_{}\".format(t, t) for t in [\"train\", \"valid\", \"test\"]])}\n",
    "\n",
    "For task 2.2, use:\n",
    "{chr(10).join([\"simulation_{} + simulation_continued_{}\".format(*((t[0], t[1]) if isinstance(t, tuple) else (t, t))) for t in [(\"train_task2\", \"train\"), \"valid\", \"test\"]])}\n",
    "\"\"\")\n"
   ]
  },
  {
   "cell_type": "code",
   "execution_count": 4,
   "id": "3cfafdb3",
   "metadata": {},
   "outputs": [
    {
     "name": "stdout",
     "output_type": "stream",
     "text": [
      "Print some shapes:\n",
      "\n",
      "simulation_train[0].shape: (103, 2) -> (t, 2), (x, y) at every t)\n",
      "charges_train[0].shape: (3,) -> charges for the simulation\n",
      "simulation_continued_train[0].shape: (54, 2) -> (t, 2), (x, y) at every t)\n",
      "----\n",
      "\n",
      "simulation_train[1].shape: (97, 2) -> (t, 2), (x, y) at every t)\n",
      "charges_train[1].shape: (3,) -> charges for the simulation\n",
      "simulation_continued_train[1].shape: (45, 2) -> (t, 2), (x, y) at every t)\n",
      "----\n",
      "\n",
      "simulation_train[2].shape: (99, 2) -> (t, 2), (x, y) at every t)\n",
      "charges_train[2].shape: (3,) -> charges for the simulation\n",
      "simulation_continued_train[2].shape: (47, 2) -> (t, 2), (x, y) at every t)\n",
      "----\n",
      "\n"
     ]
    }
   ],
   "source": [
    "print('Print some shapes:\\n')\n",
    "for i in range(3):\n",
    "    print('simulation_train[{}].shape:'.format(i), simulation_train[i].shape, '-> (t, 2), (x, y) at every t)')\n",
    "    print('charges_train[{}].shape:'.format(i), charges_train[i].shape, '-> charges for the simulation')\n",
    "    print('simulation_continued_train[{}].shape:'.format(i), simulation_continued_train[i].shape, '-> (t, 2), (x, y) at every t)')\n",
    "    print('----\\n')"
   ]
  },
  {
   "cell_type": "code",
   "execution_count": 5,
   "id": "f9106543",
   "metadata": {},
   "outputs": [],
   "source": [
    "def plot_example(x, x_gt=None, x_pred=None, fn=None):\n",
    "    charge_locations = np.array([[-1.53846154, -1.53846154],\n",
    "                                 [ 1.53846154, -1.53846154],\n",
    "                                 [ 0.        ,  1.53846154]])  # charge locations are fixed\n",
    "    fig = plt.figure()\n",
    "    axes = plt.gca()\n",
    "    axes.set_xlim([-5., 5.])\n",
    "    axes.set_ylim([-5., 5.])\n",
    "    cmap = matplotlib.cm.get_cmap('tab20')\n",
    "    plt.plot(x[:, 0], x[:, 1], color=cmap(0))\n",
    "    plt.plot(x[0, 0], x[0, 1], 'd', color=cmap(1))\n",
    "    fig.set_size_inches(5, 5)\n",
    "    for charge in charge_locations:\n",
    "        plt.plot(charge[0], charge[1], 'd', color='black')\n",
    "    if x_gt is not None:\n",
    "        plt.plot(x_gt[:, 0], x_gt[:, 1], color='red', linewidth=.5)\n",
    "    if x_pred is not None:\n",
    "        plt.plot(x_pred[:, 0], x_pred[:, 1], color='green', linestyle='--')\n",
    "    if fn is None:\n",
    "        plt.show()\n",
    "    else:\n",
    "        plt.savefig(fn)"
   ]
  },
  {
   "cell_type": "code",
   "execution_count": 6,
   "id": "d28681a6",
   "metadata": {},
   "outputs": [
    {
     "data": {
      "image/png": "[encoded data removed]",
      "text/plain": [
       "<Figure size 360x360 with 1 Axes>"
      ]
     },
     "metadata": {
      "needs_background": "light"
     },
     "output_type": "display_data"
    },
    {
     "name": "stdout",
     "output_type": "stream",
     "text": [
      "Charges are [-0.64527653 -0.21612742 -0.96768868]\n"
     ]
    }
   ],
   "source": [
    "test_idx = np.random.randint(150)\n",
    "plot_example(simulation_train[test_idx], simulation_continued_train[test_idx])\n",
    "print(f'Charges are {charges_train[test_idx]}')"
   ]
  },
  {
   "cell_type": "code",
   "execution_count": 7,
   "id": "bbd88662",
   "metadata": {},
   "outputs": [
    {
     "name": "stdout",
     "output_type": "stream",
     "text": [
      "[[ 0.02131423  2.35724041]\n",
      " [ 0.01356607  2.24387129]\n",
      " [ 0.00420025  2.12108046]\n",
      " [-0.00678935  1.98838994]\n",
      " [-0.019345    1.84509386]\n",
      " [-0.03316281  1.68998654]\n",
      " [-0.04569477  1.52087837]\n",
      " [-0.05098776  1.3476034 ]\n",
      " [-0.05572069  1.17636925]\n",
      " [-0.06173123  1.00516443]\n",
      " [-0.06955289  0.83292671]\n",
      " [-0.0795167   0.65898979]\n",
      " [-0.09190119  0.48288669]\n",
      " [-0.1069783   0.30427434]\n",
      " [-0.12503515  0.12290132]\n",
      " [-0.14638869 -0.06140382]\n",
      " [-0.17139863 -0.24873149]\n",
      " [-0.20048025 -0.43907958]\n",
      " [-0.23411727 -0.63233133]\n",
      " [-0.27287219 -0.8282211 ]\n",
      " [-0.31738828 -1.02628629]\n",
      " [-0.36837069 -1.22580552]\n",
      " [-0.42652783 -1.42573142]\n",
      " [-0.49245285 -1.62464457]\n",
      " [-0.56644729 -1.82078023]\n",
      " [-0.64834448 -2.01218202]\n",
      " [-0.73744086 -2.19697056]\n",
      " [-0.83260259 -2.37361106]\n",
      " [-0.93248927 -2.54104924]\n",
      " [-1.03576812 -2.69869019]\n",
      " [-1.1412431  -2.84629052]\n",
      " [-1.24790083 -2.98383903]\n",
      " [-1.35490662 -3.11146232]\n",
      " [-1.46157995 -3.22936108]\n",
      " [-1.56736569 -3.33777042]\n",
      " [-1.67180787 -3.43693662]\n",
      " [-1.77452802 -3.52710402]\n",
      " [-1.87520806 -3.60850794]\n",
      " [-1.97357703 -3.68137121]\n",
      " [-2.06940084 -3.74590278]\n",
      " [-2.16247432 -3.8022974 ]\n",
      " [-2.25261505 -3.85073606]\n",
      " [-2.33965856 -3.89138663]\n",
      " [-2.42345446 -3.92440475]\n",
      " [-2.50386336 -3.9499347 ]\n",
      " [-2.5807544  -3.9681103 ]\n",
      " [-2.65400313 -3.97905575]\n",
      " [-2.72348985 -3.98288645]\n",
      " [-2.78909805 -3.97970971]\n",
      " [-2.85071317 -3.96962548]\n",
      " [-2.90822142 -3.95272697]\n",
      " [-2.96150875 -3.92910123]\n",
      " [-3.01045987 -3.89882977]\n",
      " [-3.05495727 -3.86198905]\n",
      " [-3.09488032 -3.818651  ]\n",
      " [-3.13010429 -3.76888361]\n",
      " [-3.16049942 -3.71275137]\n",
      " [-3.18592982 -3.6503159 ]\n",
      " [-3.20625237 -3.58163651]\n",
      " [-3.22131548 -3.5067709 ]\n",
      " [-3.23095766 -3.42577593]\n",
      " [-3.23500595 -3.33870853]\n",
      " [-3.23327409 -3.24562687]\n",
      " [-3.22556037 -3.14659175]\n",
      " [-3.21164512 -3.04166841]\n",
      " [-3.19128776 -2.93092897]\n",
      " [-3.16422321 -2.81445557]\n",
      " [-3.1301577  -2.69234474]\n",
      " [-3.0887637  -2.56471345]\n",
      " [-3.03967393 -2.43170765]\n",
      " [-2.9824745  -2.29351452]\n",
      " [-2.9166973  -2.15038049]\n",
      " [-2.84181286 -2.00263796]\n",
      " [-2.75722613 -1.85074539]\n",
      " [-2.66228184 -1.69534721]\n",
      " [-2.55629404 -1.53736061]\n",
      " [-2.43862981 -1.37808928]\n",
      " [-2.30889512 -1.21933338]\n",
      " [-2.16725586 -1.06338829]\n",
      " [-2.01478972 -0.91275059]\n",
      " [-1.85353747 -0.7695041 ]\n",
      " [-1.68603489 -0.63478647]\n",
      " [-1.51466393 -0.50875951]\n",
      " [-1.34129408 -0.390954  ]\n",
      " [-1.16725958 -0.2806238 ]\n",
      " [-0.99348226 -0.17695737]\n",
      " [-0.82060774 -0.0791713 ]\n",
      " [-0.6491135   0.013459  ]\n",
      " [-0.47938804  0.10159452]\n",
      " [-0.31178896  0.1858348 ]\n",
      " [-0.14668646  0.26671688]\n",
      " [ 0.01550582  0.34470593]\n",
      " [ 0.17431576  0.420176  ]\n",
      " [ 0.32921917  0.49338545]\n",
      " [ 0.47967019  0.56445842]\n",
      " [ 0.62514798  0.63338608]\n",
      " [ 0.76520163  0.70005251]]\n",
      "[-0.98451836 -0.1667747  -0.34789858]\n"
     ]
    }
   ],
   "source": [
    "print(simulation_train[1])    #simulation guiji meiyou shijian jiushi \n",
    "print(charges_train[1])    #simulation 电荷量     "
   ]
  },
  {
   "cell_type": "code",
   "execution_count": 8,
   "id": "1c75816f",
   "metadata": {},
   "outputs": [
    {
     "name": "stderr",
     "output_type": "stream",
     "text": [
      "E:\\anaconda3\\envs\\py38cuda\\lib\\site-packages\\tqdm\\auto.py:22: TqdmWarning: IProgress not found. Please update jupyter and ipywidgets. See https://ipywidgets.readthedocs.io/en/stable/user_install.html\n",
      "  from .autonotebook import tqdm as notebook_tqdm\n"
     ]
    }
   ],
   "source": [
    "import torch\n",
    "import torch.nn as nn\n",
    "import torch.nn.functional as F\n"
   ]
  },
  {
   "cell_type": "code",
   "execution_count": 9,
   "id": "c648b141",
   "metadata": {},
   "outputs": [],
   "source": [
    "batch_size = 20\n",
    "time_step = 1\n",
    "epoch = 500\n",
    "input_size = 2\n",
    "output_size = 3\n",
    "mid_dim = 8\n",
    "mid_layers = 1"
   ]
  },
  {
   "cell_type": "code",
   "execution_count": 10,
   "id": "02399b76",
   "metadata": {},
   "outputs": [],
   "source": [
    "\n",
    " \n",
    "class Model(nn.Module):\n",
    "    def __init__(self, inp_dim, out_dim, mid_dim, mid_layers,batch):\n",
    "        super(Model, self).__init__()\n",
    " \n",
    "        self.rnn = nn.LSTM(inp_dim, mid_dim, mid_layers,batch_first=batch)  # rnn\n",
    "        self.reg = nn.Sequential(\n",
    "            nn.Linear(mid_dim, mid_dim),\n",
    "            nn.Tanh(),\n",
    "            nn.Linear(mid_dim, out_dim),\n",
    "        )  # regression\n",
    " \n",
    "    def forward(self, x):\n",
    "        y = self.rnn(x)[0]  # y, (h, c) = self.rnn(x)\n",
    " \n",
    "        batch_size, seq_len, hid_dim = y.shape\n",
    "        y = y.reshape(-1, hid_dim)\n",
    "        y = self.reg(y)\n",
    "        y = y.reshape(batch_size, seq_len, -1)\n",
    "        return y"
   ]
  },
  {
   "cell_type": "code",
   "execution_count": 11,
   "id": "7fd13b26",
   "metadata": {},
   "outputs": [],
   "source": [
    "device=torch.device(\"cuda\" if torch.cuda.is_available() else \"cpu\")\n",
    "net=Model(input_size,output_size,mid_dim,mid_layers,True).to(device)\n",
    "criterion=nn.MSELoss()\n",
    "optimizer=torch.optim.Adam(net.parameters(),lr=1e-2)\n"
   ]
  },
  {
   "cell_type": "code",
   "execution_count": null,
   "id": "6884a48c",
   "metadata": {},
   "outputs": [],
   "source": [
    "\n",
    "for i in range(epoch):\n",
    "    for j in range(len(simulation_train)/batch_size):\n",
    "        train_X=simulation_train[j*batch_size:(j+1)*batch_size,:,:]\n",
    "        train_Y=charges_train[j*batch_size:(j+1)*batch_size,:,:]\n",
    "        var_x=torch.tensor(train_X,dtype=torch.float32,device=device)\n",
    "        var_y=torch.tensor(train_Y,dtype=torch.float32,device=device)\n",
    "        out = net(var_x)\n",
    "        loss=criterion(out,var_y)\n",
    "        #loss = criterion(out[:,-1,:], var_y[:,-1,:])\n",
    "        optimizer.zero_grad()\n",
    "        loss.backward()\n",
    "        optimizer.step()\n",
    "    train_X=data_sample[(j+1)*batch_size:,:,:]\n",
    "    train_Y=label_sample[(j+1)*batch_size:,:,:]\n",
    "    var_x=torch.tensor(train_X,dtype=torch.float32,device=device)\n",
    "    var_y=torch.tensor(train_Y,dtype=torch.float32,device=device)\n",
    "    out = net(var_x)\n",
    "    loss = criterion(out, var_y)\n",
    "    optimizer.zero_grad()\n",
    "    loss.backward()\n",
    "    optimizer.step()\n",
    "    if i%100==0:\n",
    "        print('Epoch: {:4}, Loss: {:.5f}'.format(i, loss.item()))\n"
   ]
  },
  {
   "cell_type": "code",
   "execution_count": null,
   "id": "e6c17f6f",
   "metadata": {},
   "outputs": [],
   "source": [
    "for i in range(epoch):  # loop over the dataset multiple times\n",
    "\n",
    "    running_loss = 0.0\n",
    "    for i, data in enumerate(trainloader, 0):\n",
    "        # get the inputs; data is a list of [inputs, labels]\n",
    "        inputs, labels = data\n",
    "\n",
    "        # zero the parameter gradients\n",
    "        optimizer.zero_grad()\n",
    "\n",
    "        # forward + backward + optimize\n",
    "        outputs = net(inputs)\n",
    "        loss = criterion(outputs, labels)\n",
    "        loss.backward()\n",
    "        optimizer.step()\n",
    "\n",
    "        # print statistics\n",
    "        running_loss += loss.item()\n",
    "        if i % 2000 == 1999:    # print every 2000 mini-batches\n",
    "            print(f'[{epoch + 1}, {i + 1:5d}] loss: {running_loss / 2000:.3f}')\n",
    "            running_loss = 0.0\n",
    "\n",
    "print('Finished Training')"
   ]
  },
  {
   "cell_type": "code",
   "execution_count": 17,
   "id": "c3c8fb80",
   "metadata": {},
   "outputs": [
    {
     "name": "stdout",
     "output_type": "stream",
     "text": [
      "97\n",
      "99\n"
     ]
    }
   ],
   "source": [
    "test = simulation_train[1:3][:90]\n",
    "\n",
    "print(len(test[0]))\n",
    "print(len(test[1]))"
   ]
  }
 ],
 "metadata": {
  "interpreter": {
   "hash": "30e04fd1d76eef986bf0da653cc576a330787612c14bd679a0969bb8b12f4900"
  },
  "kernelspec": {
   "display_name": "pytorch",
   "language": "python",
   "name": "python3"
  },
  "language_info": {
   "codemirror_mode": {
    "name": "ipython",
    "version": 3
   },
   "file_extension": ".py",
   "mimetype": "text/x-python",
   "name": "python",
   "nbconvert_exporter": "python",
   "pygments_lexer": "ipython3",
   "version": "3.8.12"
  }
 },
 "nbformat": 4,
 "nbformat_minor": 5
}
